{
 "cells": [
  {
   "cell_type": "code",
   "execution_count": 1,
   "metadata": {},
   "outputs": [],
   "source": [
    "import pandas as pd\n",
    "import datetime\n",
    "from db import MySqlHelper\n",
    "from basic import get_date_shift, get_yesterday, to_datetime, get_today, check_is_UTC0, timing, logging_channels, date_range, datetime_to_str\n",
    "from jieba_based import Composer_jieba\n",
    "from keyword_usertag_report import keyword_usertag_report, delete_expired_rows\n",
    "import jieba.analyse"
   ]
  },
  {
   "cell_type": "code",
   "execution_count": 166,
   "metadata": {},
   "outputs": [
    {
     "name": "stderr",
     "output_type": "stream",
     "text": [
      "Building prefix dict from /home/hodo/Desktop/keyword_extraction/jieba_based/idf_POS_collect.txt ...\n",
      "Loading model from cache /tmp/jieba.u8fbda33d7c83311d819c0f096452d7fd.cache\n",
      "Loading model cost 0.990 seconds.\n",
      "Prefix dict has been built successfully.\n"
     ]
    },
    {
     "name": "stdout",
     "output_type": "stream",
     "text": [
      "_load_cut_config time consuming:  3.910 seconds\n",
      "_load_kw_config time consuming:  0.002 seconds\n",
      "add_words time consuming:  0.004 seconds\n",
      "SELECT keywords FROM article_list \n",
      "        WHERE keywords!='_' AND keywords!='' AND web_id in ('ctnews','mirrormedia','upmedia','btnet','bnext','dailyview','moneyweekly','nongnong','newscts','newtalk','setn','nownews')\n",
      "fetch_all_hashtags time consuming:  6.730 seconds\n",
      "add_words time consuming:  4.982 seconds\n",
      "add_words time consuming:  0.272 seconds\n",
      "get_stopword_list time consuming:  0.002 seconds\n"
     ]
    }
   ],
   "source": [
    "def clean_keyword_list(keyword_list, stopwords, stopwords_usertag):\n",
    "    keyword_list = Composer_jieba().clean_keyword(keyword_list, stopwords)  ## remove stopwords\n",
    "    keyword_list = Composer_jieba().clean_keyword(keyword_list, stopwords_usertag)  ## remove stopwords, only for usertag\n",
    "    keyword_list = Composer_jieba().filter_quantifier(keyword_list)  ## remove number+quantifier, ex: 5.1萬\n",
    "    keyword_list = Composer_jieba().filter_str_list(keyword_list, pattern=\"[0-9]{2}\")  ## remove 2 digit number\n",
    "    keyword_list = Composer_jieba().filter_str_list(keyword_list, pattern=\"[0-9.]*\")  ## remove floating\n",
    "    keyword_list = Composer_jieba().filter_str_list(keyword_list, pattern=\"[a-z]{1,4}|[A-Z]{2}\")  ## remove 1-4 lowercase letter and 2 Upper\n",
    "    keyword_list = [keyword for keyword in keyword_list if keyword != ''] ## remove blank\n",
    "    return keyword_list\n",
    "\n",
    "\n",
    "def feach_ (date):\n",
    "    query =f\"SELECT id, title,content,keywords  FROM article_list where add_time>={date_now} and keywords in('','_') and id >100 limit 100\"\n",
    "    data = MySqlHelper('dione').ExecuteSelect(query)\n",
    "    #df_map_save = pd.DataFrame(data=data, columns=['title', 'content', 'keywords'])\n",
    "    return data\n",
    "\n",
    "\n",
    "is_UTC0 = check_is_UTC0()\n",
    "jump2gcp = True\n",
    "date_now = datetime_to_str(get_today()) \n",
    "jieba_base = Composer_jieba()\n",
    "all_hashtag = jieba_base.set_config()\n",
    "stopwords = jieba_base.get_stopword_list()\n",
    "stopwords_usertag = jieba_base.read_file('./jieba_based/stop_words_usertag.txt')\n",
    "data=feach_(date_now)\n",
    "\n",
    "j, data_save = 0, {}\n",
    "#####將資料整理 並新增usertag,cut,webid\n",
    "for i, d in enumerate(data):\n",
    "    idd,title, content,keywords = d\n",
    "    news = title + ' ' + content\n",
    "        ## pattern for removing https\n",
    "    news_clean = jieba_base.filter_str(news, pattern=\"https:\\/\\/([0-9a-zA-Z.\\/]*)\")\n",
    "        ## pattern for removing symbol, -,+~.\n",
    "    news_clean = jieba_base.filter_symbol(news_clean)\n",
    "        ##整理keywors,沒有新增 從清理過後的title和content取得\n",
    "    if (keywords == '') | (keywords == '_'):\n",
    "        keyword_list = jieba.analyse.extract_tags(news_clean, topK=80) # TF-IDF\n",
    "        keyword_list = clean_keyword_list(keyword_list, stopwords, stopwords_usertag)[:10] #取前10關鍵字\n",
    "        keywords = ','.join(keyword_list)  ## add keywords  \n",
    "        is_cut = 1\n",
    "\n",
    "    data_save[j] = {'id':idd,'news': news_clean,'keywords': keywords,'is_cut': is_cut}\n",
    "    j += 1\n",
    "df_map = pd.DataFrame.from_dict(data_save, \"index\")\n"
   ]
  },
  {
   "cell_type": "code",
   "execution_count": 168,
   "metadata": {},
   "outputs": [],
   "source": [
    "df=df_map.set_index('id')"
   ]
  },
  {
   "cell_type": "code",
   "execution_count": 178,
   "metadata": {},
   "outputs": [],
   "source": [
    "df['y']='-'"
   ]
  },
  {
   "cell_type": "code",
   "execution_count": 179,
   "metadata": {},
   "outputs": [
    {
     "data": {
      "text/html": [
       "<div>\n",
       "<style scoped>\n",
       "    .dataframe tbody tr th:only-of-type {\n",
       "        vertical-align: middle;\n",
       "    }\n",
       "\n",
       "    .dataframe tbody tr th {\n",
       "        vertical-align: top;\n",
       "    }\n",
       "\n",
       "    .dataframe thead th {\n",
       "        text-align: right;\n",
       "    }\n",
       "</style>\n",
       "<table border=\"1\" class=\"dataframe\">\n",
       "  <thead>\n",
       "    <tr style=\"text-align: right;\">\n",
       "      <th></th>\n",
       "      <th>news</th>\n",
       "      <th>keywords</th>\n",
       "      <th>is_cut</th>\n",
       "      <th>y</th>\n",
       "    </tr>\n",
       "    <tr>\n",
       "      <th>id</th>\n",
       "      <th></th>\n",
       "      <th></th>\n",
       "      <th></th>\n",
       "      <th></th>\n",
       "    </tr>\n",
       "  </thead>\n",
       "  <tbody>\n",
       "    <tr>\n",
       "      <th>101</th>\n",
       "      <td>「老人家」林青霞充滿自信臉衰老也不打針66歲素顏的樣子驚人 原來有些人不僅能在年輕的時候成為...</td>\n",
       "      <td>林青霞,65歲,氣質,女神,打針,狀態,衰老,老人家,素顏,女星</td>\n",
       "      <td>1</td>\n",
       "      <td>-</td>\n",
       "    </tr>\n",
       "    <tr>\n",
       "      <th>102</th>\n",
       "      <td>未來一週要格外留心了一個豬一個鼠一個狗一個猴必須接啊 錢是一個好東西不僅能給你買來想要的東西...</td>\n",
       "      <td>未來一週,癟癟,債臺高築,4月8日,熬過去,給你,事與願違,好生,留心,鬱悶</td>\n",
       "      <td>1</td>\n",
       "      <td>-</td>\n",
       "    </tr>\n",
       "    <tr>\n",
       "      <th>103</th>\n",
       "      <td>「平安健康就是福！」脫線活了87年首吐養老秘訣攜手愛妻「享受山林生活」自歎「每天醒來都多賺一...</td>\n",
       "      <td>陳炳楠,京劇,忘年交,首吐,表演藝術家,眷侶,頻出,年事已高,脫線,奉獻給</td>\n",
       "      <td>1</td>\n",
       "      <td>-</td>\n",
       "    </tr>\n",
       "    <tr>\n",
       "      <th>104</th>\n",
       "      <td>天使微笑S型曲線！46歲林志玲辣照「過山車」身材不輸少女網友：不愧是萬人迷 「臺灣第一名模」...</td>\n",
       "      <td>林志玲,46歲,黑澤良平,第2,此番,白T,第1,過山車,露面,婚姻</td>\n",
       "      <td>1</td>\n",
       "      <td>-</td>\n",
       "    </tr>\n",
       "    <tr>\n",
       "      <th>105</th>\n",
       "      <td>李翊君最愛妹妹驟逝淚言「無法接受但在母面前要裝堅強」長姊如母「23年走不出傷痛」：只希望活著...</td>\n",
       "      <td>李翊君,5月8日,淚言,走不出,高雄展開,長姊,中興大學惠蓀堂,妹妹,如母,三妹</td>\n",
       "      <td>1</td>\n",
       "      <td>-</td>\n",
       "    </tr>\n",
       "    <tr>\n",
       "      <th>...</th>\n",
       "      <td>...</td>\n",
       "      <td>...</td>\n",
       "      <td>...</td>\n",
       "      <td>...</td>\n",
       "    </tr>\n",
       "    <tr>\n",
       "      <th>196</th>\n",
       "      <td>84歲老翁健身變帥氣型男78歲妻子大長腿52歲女兒更狂「年輕似20歲」網：一家人都是「凍齡精...</td>\n",
       "      <td>84歲,順得,帥氣型,在此之後,78歲,更狂,火遍,王德,52歲,老爺子</td>\n",
       "      <td>1</td>\n",
       "      <td>-</td>\n",
       "    </tr>\n",
       "    <tr>\n",
       "      <th>197</th>\n",
       "      <td>【橫財來了】好運旺不停的五個生肖是你嗎 屬虎的人實際可靠慈悲心重為人直爽他們很難討厭或者恨一...</td>\n",
       "      <td>橫財,生肖龍,富貴,好運,鹹魚翻身,屬豬,吉星,正財,運勢,錢財</td>\n",
       "      <td>1</td>\n",
       "      <td>-</td>\n",
       "    </tr>\n",
       "    <tr>\n",
       "      <th>198</th>\n",
       "      <td>老婆一聲不響離開！單親爸不畏風雨「抱3歲兒子爬17樓送外賣」直言：孩子比我更辛苦一切都值得 ...</td>\n",
       "      <td>騎機車,入業,一聲不響,3歲,辛苦,單親爸,送外賣,揹著,美食外送,孩子</td>\n",
       "      <td>1</td>\n",
       "      <td>-</td>\n",
       "    </tr>\n",
       "    <tr>\n",
       "      <th>199</th>\n",
       "      <td>半夜淚喊想回娘家！貝童彤第一次在夫家吃年夜飯「與婆婆大吵」崩潰嚇傻 半夜2點「呆坐客廳」老公...</td>\n",
       "      <td>貝童彤,夫家,半夜2點,一家3口,淚喊,呆坐,兒童台,大吵,和樂融融,活力充沛</td>\n",
       "      <td>1</td>\n",
       "      <td>-</td>\n",
       "    </tr>\n",
       "    <tr>\n",
       "      <th>200</th>\n",
       "      <td>劉德華「大手筆砸8億」給6歲女兒買豪宅,踏進大門豪宅似皇宮十人保鏢團打造安全堡壘：外人一步也...</td>\n",
       "      <td>女兒,劉德華,豪宅,6歲,不將,保鏢,打造安全,出了名,堡壘,大手筆</td>\n",
       "      <td>1</td>\n",
       "      <td>-</td>\n",
       "    </tr>\n",
       "  </tbody>\n",
       "</table>\n",
       "<p>100 rows × 4 columns</p>\n",
       "</div>"
      ],
      "text/plain": [
       "                                                  news  \\\n",
       "id                                                       \n",
       "101  「老人家」林青霞充滿自信臉衰老也不打針66歲素顏的樣子驚人 原來有些人不僅能在年輕的時候成為...   \n",
       "102  未來一週要格外留心了一個豬一個鼠一個狗一個猴必須接啊 錢是一個好東西不僅能給你買來想要的東西...   \n",
       "103  「平安健康就是福！」脫線活了87年首吐養老秘訣攜手愛妻「享受山林生活」自歎「每天醒來都多賺一...   \n",
       "104  天使微笑S型曲線！46歲林志玲辣照「過山車」身材不輸少女網友：不愧是萬人迷 「臺灣第一名模」...   \n",
       "105  李翊君最愛妹妹驟逝淚言「無法接受但在母面前要裝堅強」長姊如母「23年走不出傷痛」：只希望活著...   \n",
       "..                                                 ...   \n",
       "196  84歲老翁健身變帥氣型男78歲妻子大長腿52歲女兒更狂「年輕似20歲」網：一家人都是「凍齡精...   \n",
       "197  【橫財來了】好運旺不停的五個生肖是你嗎 屬虎的人實際可靠慈悲心重為人直爽他們很難討厭或者恨一...   \n",
       "198  老婆一聲不響離開！單親爸不畏風雨「抱3歲兒子爬17樓送外賣」直言：孩子比我更辛苦一切都值得 ...   \n",
       "199  半夜淚喊想回娘家！貝童彤第一次在夫家吃年夜飯「與婆婆大吵」崩潰嚇傻 半夜2點「呆坐客廳」老公...   \n",
       "200  劉德華「大手筆砸8億」給6歲女兒買豪宅,踏進大門豪宅似皇宮十人保鏢團打造安全堡壘：外人一步也...   \n",
       "\n",
       "                                     keywords  is_cut  y  \n",
       "id                                                        \n",
       "101          林青霞,65歲,氣質,女神,打針,狀態,衰老,老人家,素顏,女星       1  -  \n",
       "102    未來一週,癟癟,債臺高築,4月8日,熬過去,給你,事與願違,好生,留心,鬱悶       1  -  \n",
       "103     陳炳楠,京劇,忘年交,首吐,表演藝術家,眷侶,頻出,年事已高,脫線,奉獻給       1  -  \n",
       "104        林志玲,46歲,黑澤良平,第2,此番,白T,第1,過山車,露面,婚姻       1  -  \n",
       "105  李翊君,5月8日,淚言,走不出,高雄展開,長姊,中興大學惠蓀堂,妹妹,如母,三妹       1  -  \n",
       "..                                        ...     ... ..  \n",
       "196      84歲,順得,帥氣型,在此之後,78歲,更狂,火遍,王德,52歲,老爺子       1  -  \n",
       "197          橫財,生肖龍,富貴,好運,鹹魚翻身,屬豬,吉星,正財,運勢,錢財       1  -  \n",
       "198      騎機車,入業,一聲不響,3歲,辛苦,單親爸,送外賣,揹著,美食外送,孩子       1  -  \n",
       "199   貝童彤,夫家,半夜2點,一家3口,淚喊,呆坐,兒童台,大吵,和樂融融,活力充沛       1  -  \n",
       "200        女兒,劉德華,豪宅,6歲,不將,保鏢,打造安全,出了名,堡壘,大手筆       1  -  \n",
       "\n",
       "[100 rows x 4 columns]"
      ]
     },
     "execution_count": 179,
     "metadata": {},
     "output_type": "execute_result"
    }
   ],
   "source": [
    "df"
   ]
  },
  {
   "cell_type": "code",
   "execution_count": null,
   "metadata": {},
   "outputs": [],
   "source": []
  },
  {
   "cell_type": "code",
   "execution_count": null,
   "metadata": {},
   "outputs": [],
   "source": []
  },
  {
   "cell_type": "code",
   "execution_count": null,
   "metadata": {},
   "outputs": [],
   "source": []
  },
  {
   "cell_type": "code",
   "execution_count": null,
   "metadata": {},
   "outputs": [],
   "source": []
  },
  {
   "cell_type": "code",
   "execution_count": 159,
   "metadata": {},
   "outputs": [],
   "source": [
    "date_now = datetime_to_str(get_today())\n",
    "query =f\"SELECT id, title,content,keywords  FROM article_list where add_time>={date_now} and keywords in('','_') limit 100\""
   ]
  },
  {
   "cell_type": "code",
   "execution_count": 160,
   "metadata": {},
   "outputs": [],
   "source": [
    "data = MySqlHelper('dione').ExecuteSelect(query)"
   ]
  },
  {
   "cell_type": "code",
   "execution_count": 145,
   "metadata": {},
   "outputs": [
    {
     "data": {
      "text/plain": [
       "'2022-04-12'"
      ]
     },
     "execution_count": 145,
     "metadata": {},
     "output_type": "execute_result"
    }
   ],
   "source": [
    "date_now"
   ]
  },
  {
   "cell_type": "code",
   "execution_count": 146,
   "metadata": {},
   "outputs": [],
   "source": [
    "a=''"
   ]
  },
  {
   "cell_type": "code",
   "execution_count": 147,
   "metadata": {},
   "outputs": [
    {
     "data": {
      "text/plain": [
       "''"
      ]
     },
     "execution_count": 147,
     "metadata": {},
     "output_type": "execute_result"
    }
   ],
   "source": []
  },
  {
   "cell_type": "code",
   "execution_count": null,
   "metadata": {},
   "outputs": [],
   "source": []
  }
 ],
 "metadata": {
  "kernelspec": {
   "display_name": "Python 3",
   "language": "python",
   "name": "python3"
  },
  "language_info": {
   "codemirror_mode": {
    "name": "ipython",
    "version": 3
   },
   "file_extension": ".py",
   "mimetype": "text/x-python",
   "name": "python",
   "nbconvert_exporter": "python",
   "pygments_lexer": "ipython3",
   "version": "3.8.3"
  }
 },
 "nbformat": 4,
 "nbformat_minor": 4
}
