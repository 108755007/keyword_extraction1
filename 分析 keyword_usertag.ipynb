{
 "cells": [
  {
   "cell_type": "code",
   "execution_count": 230,
   "metadata": {},
   "outputs": [],
   "source": [
    "import pandas as pd\n",
    "import datetime\n",
    "from db import MySqlHelper\n",
    "from basic import get_date_shift, get_yesterday, to_datetime, get_today, check_is_UTC0, timing, logging_channels, date_range, datetime_to_str\n",
    "from jieba_based import Composer_jieba\n",
    "from keyword_usertag_report import keyword_usertag_report, delete_expired_rows\n",
    "import jieba.analyse"
   ]
  },
  {
   "cell_type": "code",
   "execution_count": 73,
   "metadata": {},
   "outputs": [],
   "source": [
    "from definitions import ROOT_DIR\n",
    "####Project Root "
   ]
  },
  {
   "cell_type": "code",
   "execution_count": 337,
   "metadata": {},
   "outputs": [],
   "source": [
    "date = get_yesterday(is_UTC0=is_UTC0) ## compute all browsing record yesterday ad 3:10 o'clock\n",
    "date_list = [date]"
   ]
  },
  {
   "cell_type": "code",
   "execution_count": 344,
   "metadata": {},
   "outputs": [
    {
     "data": {
      "text/plain": [
       "datetime.datetime(2022, 4, 10, 0, 0)"
      ]
     },
     "execution_count": 344,
     "metadata": {},
     "output_type": "execute_result"
    }
   ],
   "source": [
    "date_list[0]\n"
   ]
  },
  {
   "cell_type": "code",
   "execution_count": 335,
   "metadata": {},
   "outputs": [
    {
     "name": "stderr",
     "output_type": "stream",
     "text": [
      "Building prefix dict from /home/hodo/Desktop/keyword_extraction/jieba_based/idf_POS_collect.txt ...\n",
      "Loading model from cache /tmp/jieba.u8fbda33d7c83311d819c0f096452d7fd.cache\n",
      "Loading model cost 0.950 seconds.\n",
      "Prefix dict has been built successfully.\n"
     ]
    },
    {
     "name": "stdout",
     "output_type": "stream",
     "text": [
      "_load_cut_config time consuming:  3.683 seconds\n",
      "_load_kw_config time consuming:  0.002 seconds\n",
      "add_words time consuming:  0.004 seconds\n",
      "SELECT keywords FROM article_list \n",
      "        WHERE keywords!='_' AND keywords!='' AND web_id in ('ctnews','mirrormedia','upmedia','btnet','bnext','dailyview','moneyweekly','nongnong','newscts','newtalk','setn','nownews')\n",
      "fetch_all_hashtags time consuming:  6.959 seconds\n",
      "add_words time consuming:  4.788 seconds\n",
      "add_words time consuming:  0.326 seconds\n",
      "get_stopword_list time consuming:  0.002 seconds\n",
      "SELECT web_id, usertag_keyword_expired_day FROM web_id_table where usertag_keyword_enable=1\n"
     ]
    },
    {
     "ename": "NameError",
     "evalue": "name 'main_update_subscriber_usertag' is not defined",
     "output_type": "error",
     "traceback": [
      "\u001b[0;31m---------------------------------------------------------------------------\u001b[0m",
      "\u001b[0;31mNameError\u001b[0m                                 Traceback (most recent call last)",
      "\u001b[0;32m<ipython-input-335-d0b9466a4000>\u001b[0m in \u001b[0;36m<module>\u001b[0;34m\u001b[0m\n\u001b[1;32m     22\u001b[0m \u001b[0;32mfor\u001b[0m \u001b[0mdate\u001b[0m \u001b[0;32min\u001b[0m \u001b[0mdate_list\u001b[0m\u001b[0;34m:\u001b[0m\u001b[0;34m\u001b[0m\u001b[0;34m\u001b[0m\u001b[0m\n\u001b[1;32m     23\u001b[0m     \u001b[0;32mfor\u001b[0m \u001b[0mweb_id\u001b[0m\u001b[0;34m,\u001b[0m \u001b[0mexpired_day\u001b[0m \u001b[0;32min\u001b[0m \u001b[0mzip\u001b[0m\u001b[0;34m(\u001b[0m\u001b[0mweb_id_all\u001b[0m\u001b[0;34m,\u001b[0m \u001b[0mexpired_day_all\u001b[0m\u001b[0;34m)\u001b[0m\u001b[0;34m:\u001b[0m\u001b[0;34m\u001b[0m\u001b[0;34m\u001b[0m\u001b[0m\n\u001b[0;32m---> 24\u001b[0;31m         \u001b[0mdf_map_save\u001b[0m\u001b[0;34m,\u001b[0m \u001b[0mdf_freq_token\u001b[0m \u001b[0;34m=\u001b[0m \u001b[0mmain_update_subscriber_usertag\u001b[0m\u001b[0;34m(\u001b[0m\u001b[0mweb_id\u001b[0m\u001b[0;34m,\u001b[0m \u001b[0mdate\u001b[0m\u001b[0;34m,\u001b[0m \u001b[0mis_UTC0\u001b[0m\u001b[0;34m,\u001b[0m \u001b[0mjump2gcp\u001b[0m\u001b[0;34m,\u001b[0m \u001b[0mexpired_day\u001b[0m\u001b[0;34m,\u001b[0m \u001b[0mjieba_base\u001b[0m\u001b[0;34m,\u001b[0m \u001b[0mstopwords\u001b[0m\u001b[0;34m,\u001b[0m \u001b[0mstopwords_usertag\u001b[0m\u001b[0;34m)\u001b[0m\u001b[0;34m\u001b[0m\u001b[0;34m\u001b[0m\u001b[0m\n\u001b[0m\u001b[1;32m     25\u001b[0m \u001b[0;31m#3\u001b[0m\u001b[0;34m\u001b[0m\u001b[0;34m\u001b[0m\u001b[0;34m\u001b[0m\u001b[0m\n",
      "\u001b[0;31mNameError\u001b[0m: name 'main_update_subscriber_usertag' is not defined"
     ]
    }
   ],
   "source": [
    "## set is in UTC+0 or UTC+8\n",
    "is_UTC0 = check_is_UTC0()\n",
    "jump2gcp = True\n",
    "date = get_yesterday(is_UTC0=is_UTC0) ## compute all browsing record yesterday ad 3:10 o'clock\n",
    "date_list = [date]\n",
    "    # date_list = [datetime_to_str(date) for date in date_range('2022-03-03', 4)]\n",
    "    # date_list = ['2022-02-21', '2022-02-22', '2022-02-23', '2022-02-24']\n",
    "    ## set up config (add word, user_dict.txt ...)\n",
    "#1\n",
    "jieba_base = Composer_jieba()\n",
    "all_hashtag = jieba_base.set_config()\n",
    "stopwords = jieba_base.get_stopword_list()\n",
    "stopwords_usertag = jieba_base.read_file('./jieba_based/stop_words_usertag.txt')\n",
    "#1\n",
    "#2\n",
    "web_id_all, expired_day_all = fetch_usertag_web_id_ex_day()\n",
    "#2\n",
    "web_id_all = ['cmoney']\n",
    "expired_day_all = [4]\n",
    "## get expired_date\n",
    "#3\n",
    "for date in date_list:\n",
    "    for web_id, expired_day in zip(web_id_all, expired_day_all):\n",
    "        df_map_save, df_freq_token = main_update_subscriber_usertag(web_id, date, is_UTC0, jump2gcp, expired_day, jieba_base, stopwords, stopwords_usertag)\n",
    "#3        "
   ]
  },
  {
   "cell_type": "code",
   "execution_count": 336,
   "metadata": {},
   "outputs": [],
   "source": [
    "def fetch_usertag_web_id_ex_day():\n",
    "    query = \"SELECT web_id, usertag_keyword_expired_day FROM web_id_table where usertag_keyword_enable=1\"\n",
    "    print(query)\n",
    "    data = MySqlHelper('dione').ExecuteSelect(query)\n",
    "    web_id_all = [d[0] for d in data]\n",
    "    expired_day_all = [d[1] for d in data]\n",
    "    return web_id_all, expired_day_all"
   ]
  }
 ],
 "metadata": {
  "kernelspec": {
   "display_name": "Python 3",
   "language": "python",
   "name": "python3"
  },
  "language_info": {
   "codemirror_mode": {
    "name": "ipython",
    "version": 3
   },
   "file_extension": ".py",
   "mimetype": "text/x-python",
   "name": "python",
   "nbconvert_exporter": "python",
   "pygments_lexer": "ipython3",
   "version": "3.8.3"
  }
 },
 "nbformat": 4,
 "nbformat_minor": 4
}
