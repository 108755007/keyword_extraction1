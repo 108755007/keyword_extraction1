{
 "cells": [
  {
   "cell_type": "code",
   "execution_count": 53,
   "metadata": {},
   "outputs": [],
   "source": [
    "a = (i for i in range(1,10)) "
   ]
  },
  {
   "cell_type": "code",
   "execution_count": 58,
   "metadata": {},
   "outputs": [],
   "source": [
    "def num(num): #定义函数\n",
    "    def num_in(nim_in): #定义函数\n",
    "        return num + num_in #返回两个参数的和。\n",
    "    return num_in #返回内部函数的引用。（变量名）\n"
   ]
  },
  {
   "cell_type": "code",
   "execution_count": 46,
   "metadata": {},
   "outputs": [],
   "source": [
    "a = [(i,j,k) for i in range(5) for j in range(5) for k in range(5)]"
   ]
  },
  {
   "cell_type": "code",
   "execution_count": 59,
   "metadata": {},
   "outputs": [],
   "source": [
    "a = num(100)"
   ]
  },
  {
   "cell_type": "code",
   "execution_count": 75,
   "metadata": {},
   "outputs": [],
   "source": [
    "\n",
    "def function(func): #定义了一个闭包\n",
    "\tdef func_in(*args,**kwargs): \t#闭包内的函数，因为装饰器运行的实则是闭包内的函数，所以这里将需要有形参用来接收原函数的参数。\n",
    "\t\tprint('这里是需要装饰的内容，就是需要添加的内容')\n",
    "\t\tfunc(*args,**kwargs) \t#调用实参函数，并传入一致的实参。\n",
    "\treturn func_in\n",
    "\t\n",
    "@function\t #装饰器的python写法，等价于test = function(test) .\n",
    "def test():\n",
    "\tprint('无参函数的测试')\n"
   ]
  },
  {
   "cell_type": "code",
   "execution_count": 78,
   "metadata": {},
   "outputs": [
    {
     "name": "stdout",
     "output_type": "stream",
     "text": [
      "这里是需要装饰的内容，就是需要添加的内容\n",
      "无参函数的测试\n"
     ]
    }
   ],
   "source": [
    "test()"
   ]
  },
  {
   "cell_type": "code",
   "execution_count": 79,
   "metadata": {},
   "outputs": [
    {
     "ename": "SyntaxError",
     "evalue": "invalid syntax (<ipython-input-79-8e1d9e6779b1>, line 11)",
     "output_type": "error",
     "traceback": [
      "\u001b[0;36m  File \u001b[0;32m\"<ipython-input-79-8e1d9e6779b1>\"\u001b[0;36m, line \u001b[0;32m11\u001b[0m\n\u001b[0;31m    test() 这里再次掉用test()的时候，其实是将会调用闭包内的函数func_in()。所以将会起到装饰修改的作用，最后会再次调用原函数test()。\u001b[0m\n\u001b[0m           ^\u001b[0m\n\u001b[0;31mSyntaxError\u001b[0m\u001b[0;31m:\u001b[0m invalid syntax\n"
     ]
    }
   ],
   "source": [
    "\n",
    "def function(func): #定义了一个闭包\n",
    "\tdef func_in(): #闭包内的函数\n",
    "\t\tprint('这里是需要装饰的内容，就是需要添加的内容')\n",
    "\t\tfunc() #调用实参函数。\n",
    "\treturn func_in\n",
    "\t\n",
    "def test(): \t#需要被装饰修改的函数。\n",
    "\tprint('无参函数的测试')\n",
    "\t\n",
    "test = function(test) \t#装饰器的原理就是将原有的函数名重新定义为以原函数为参数的闭包。\n",
    "test() 这里再次掉用test()的时候，其实是将会调用闭包内的函数func_in()。所以将会起到装饰修改的作用，最后会再次调用原函数test()。\n",
    " \n",
    "@function \t#装饰器的python写法，等价于test = function(test)，并且无需调用当代码运行道这里，Python会自动运行。\n",
    "def test():\n",
    "\tprint('无参函数的测试')\n",
    "test() \t#这里再次调用函数时，将会产生修改后的效果。\n",
    "\n",
    "————————————————\n",
    "版权声明：本文为CSDN博主「Paulzhao6518」的原创文章，遵循CC 4.0 BY-SA版权协议，转载请附上原文出处链接及本声明。\n",
    "原文链接：https://blog.csdn.net/qq_41853758/article/details/82853811"
   ]
  },
  {
   "cell_type": "code",
   "execution_count": 106,
   "metadata": {},
   "outputs": [
    {
     "name": "stdout",
     "output_type": "stream",
     "text": [
      "My,name,is,Chaitanya,Baweja\n"
     ]
    }
   ],
   "source": [
    "list_of_strings = ['My', 'name', 'is', 'Chaitanya', 'Baweja']\n",
    "\n",
    "# Using join with the comma separator\n",
    "print(','.join(list_of_strings))\n"
   ]
  },
  {
   "cell_type": "code",
   "execution_count": 104,
   "metadata": {},
   "outputs": [],
   "source": [
    "new_string = ''.join(temp_set)"
   ]
  },
  {
   "cell_type": "code",
   "execution_count": 110,
   "metadata": {},
   "outputs": [
    {
     "name": "stdout",
     "output_type": "stream",
     "text": [
      "not palindrome\n"
     ]
    }
   ],
   "source": [
    "my_string = \"abcbaa\"\n",
    "\n",
    "if my_string == my_string[::-1]:\n",
    "    print(\"palindrome\")\n",
    "else:\n",
    "    print(\"not palindrome\")\n",
    "\n",
    "# Output\n",
    "# palindrome\n"
   ]
  },
  {
   "cell_type": "code",
   "execution_count": 111,
   "metadata": {},
   "outputs": [
    {
     "data": {
      "text/plain": [
       "'abcbaa'"
      ]
     },
     "execution_count": 111,
     "metadata": {},
     "output_type": "execute_result"
    }
   ],
   "source": [
    "my_string"
   ]
  },
  {
   "cell_type": "code",
   "execution_count": 112,
   "metadata": {},
   "outputs": [
    {
     "data": {
      "text/plain": [
       "'aabcba'"
      ]
     },
     "execution_count": 112,
     "metadata": {},
     "output_type": "execute_result"
    }
   ],
   "source": [
    "my_string[::-1]"
   ]
  },
  {
   "cell_type": "code",
   "execution_count": 113,
   "metadata": {},
   "outputs": [
    {
     "name": "stdout",
     "output_type": "stream",
     "text": [
      "Counter({'d': 5, 'b': 3, 'a': 2, 'c': 1})\n",
      "3\n",
      "[('d', 5)]\n"
     ]
    }
   ],
   "source": [
    "# finding frequency of each element in a list\n",
    "from collections import Counter\n",
    "\n",
    "my_list = ['a','a','b','b','b','c','d','d','d','d','d']\n",
    "count = Counter(my_list) # defining a counter object\n",
    "\n",
    "print(count) # Of all elements\n",
    "# Counter({'d': 5, 'b': 3, 'a': 2, 'c': 1})\n",
    "\n",
    "print(count['b']) # of individual element\n",
    "# 3\n",
    "\n",
    "print(count.most_common(1)) # most frequent element\n",
    "# [('d', 5)]\n"
   ]
  },
  {
   "cell_type": "code",
   "execution_count": 114,
   "metadata": {},
   "outputs": [
    {
     "data": {
      "text/plain": [
       "['a', 'a', 'b', 'b', 'b', 'c', 'd', 'd', 'd', 'd', 'd']"
      ]
     },
     "execution_count": 114,
     "metadata": {},
     "output_type": "execute_result"
    }
   ],
   "source": [
    "my_list"
   ]
  },
  {
   "cell_type": "code",
   "execution_count": 115,
   "metadata": {},
   "outputs": [
    {
     "data": {
      "text/plain": [
       "Counter({'a': 2, 'b': 3, 'c': 1, 'd': 5})"
      ]
     },
     "execution_count": 115,
     "metadata": {},
     "output_type": "execute_result"
    }
   ],
   "source": [
    "count"
   ]
  },
  {
   "cell_type": "code",
   "execution_count": 118,
   "metadata": {},
   "outputs": [
    {
     "data": {
      "text/plain": [
       "[('d', 5), ('b', 3)]"
      ]
     },
     "execution_count": 118,
     "metadata": {},
     "output_type": "execute_result"
    }
   ],
   "source": [
    "count.most_common(2)"
   ]
  },
  {
   "cell_type": "code",
   "execution_count": 129,
   "metadata": {},
   "outputs": [
    {
     "name": "stdout",
     "output_type": "stream",
     "text": [
      "1.0\n",
      "Run this always\n"
     ]
    }
   ],
   "source": [
    "a, b = 1,1\n",
    "\n",
    "try:\n",
    "    print(a/b)\n",
    "    # exception raised when b is 0\n",
    "except ZeroDivisionError:\n",
    "    print(\"division by zero\")\n",
    "\n",
    "finally:\n",
    "    print(\"Run this always\")"
   ]
  },
  {
   "cell_type": "code",
   "execution_count": 127,
   "metadata": {},
   "outputs": [
    {
     "ename": "ZeroDivisionError",
     "evalue": "division by zero",
     "output_type": "error",
     "traceback": [
      "\u001b[0;31m---------------------------------------------------------------------------\u001b[0m",
      "\u001b[0;31mZeroDivisionError\u001b[0m                         Traceback (most recent call last)",
      "\u001b[0;32m<ipython-input-127-aae42d317509>\u001b[0m in \u001b[0;36m<module>\u001b[0;34m\u001b[0m\n\u001b[0;32m----> 1\u001b[0;31m \u001b[0ma\u001b[0m\u001b[0;34m/\u001b[0m\u001b[0mb\u001b[0m\u001b[0;34m\u001b[0m\u001b[0;34m\u001b[0m\u001b[0m\n\u001b[0m",
      "\u001b[0;31mZeroDivisionError\u001b[0m: division by zero"
     ]
    }
   ],
   "source": [
    "a/b"
   ]
  },
  {
   "cell_type": "code",
   "execution_count": 138,
   "metadata": {},
   "outputs": [
    {
     "name": "stdout",
     "output_type": "stream",
     "text": [
      "from index\n"
     ]
    }
   ],
   "source": [
    "import time #time模块\n",
    "def index():\n",
    "    time.sleep(1)\n",
    "    print(\"from index\")\n",
    "index()\n",
    "\n"
   ]
  },
  {
   "cell_type": "code",
   "execution_count": 140,
   "metadata": {},
   "outputs": [
    {
     "name": "stdout",
     "output_type": "stream",
     "text": [
      "from index\n",
      "run time is 1.0015320777893066\n"
     ]
    }
   ],
   "source": [
    "import time\n",
    "\n",
    "def index():\n",
    "    start=time.time()     #开始时间\n",
    "    time.sleep(1)         #睡\"1\"秒\n",
    "    print('from index')\n",
    "    stop=time.time()      #结束时间\n",
    "    print('run time is %s' %(stop - start))  #运行时间\n",
    "\n",
    "index()\n",
    "# 结果 : 没有修改调用方式,但修改了源代码\n",
    "\n"
   ]
  },
  {
   "cell_type": "code",
   "execution_count": 141,
   "metadata": {},
   "outputs": [
    {
     "name": "stdout",
     "output_type": "stream",
     "text": [
      "from index\n",
      "run time is 1.0015242099761963\n"
     ]
    }
   ],
   "source": [
    "import time\n",
    "\n",
    "def index():\n",
    "    time.sleep(1)\n",
    "    print('from index')\n",
    "\n",
    "start=time.time()\n",
    "index()\n",
    "stop=time.time()\n",
    "print('run time is %s' %(stop - start))\n",
    "# 结果 : 没有修改调用方式,没有修改源代码,但代码冗余，需要写很多重复代码\n",
    "\n"
   ]
  },
  {
   "cell_type": "code",
   "execution_count": 143,
   "metadata": {},
   "outputs": [
    {
     "name": "stdout",
     "output_type": "stream",
     "text": [
      "from index\n",
      "run time is 1.0012671947479248\n"
     ]
    }
   ],
   "source": [
    "import time\n",
    "\n",
    "def index():\n",
    "    time.sleep(1)\n",
    "    print('from index')\n",
    "\n",
    "def wrapper():\n",
    "    start=time.time()\n",
    "    index()\n",
    "    stop=time.time()\n",
    "    print('run time is %s' %(stop - start))\n",
    "\n",
    "wrapper()\n",
    "# 结果 : 解决了代码冗余的问题,但把\"index\"写死了,只能计算\"index\"的运行时间\n",
    "\n"
   ]
  },
  {
   "cell_type": "code",
   "execution_count": 144,
   "metadata": {},
   "outputs": [
    {
     "name": "stdout",
     "output_type": "stream",
     "text": [
      "<function index at 0x7f5cfcf13700>\n",
      "<function outer.<locals>.wrapper at 0x7f5cfcf13820>\n",
      "from index 1 2 3\n",
      "index is run time: -1.0015475749969482\n",
      "from index 1 2 3\n",
      "index is run time: -1.0023596286773682\n"
     ]
    }
   ],
   "source": [
    "import time\n",
    "\n",
    "def index(x, y, z):\n",
    "    time.sleep(1)\n",
    "    print('from index', x, y, z)\n",
    "\n",
    "def outer(func):\n",
    "    # func = index\n",
    "    def wrapper(*args, **kwargs):\n",
    "        start_time = time.time()\n",
    "        func(*args, **kwargs)   # index(1, 2 3)   index(1, z=3, y=2)\n",
    "        stop_time = time.time()\n",
    "        print('index is run time:', start_time - stop_time)\n",
    "    return wrapper\n",
    "\n",
    "# 装饰之前index\n",
    "print(index)  # <function index at 0x000002533719CEE0>\n",
    "index = outer(index)  # warpper = outer(index)\n",
    "# 装饰之后index\n",
    "print(index)  # <function outer.<locals>.wrapper at 0x00000253371AA040>\n",
    "\n",
    "index(1, 2, 3)  # warpper(1, 2, 3)  --> func(1, 2, 3)\n",
    "\n",
    "index(1, z=3, y=2)  # wrapper(1, z=3, y=2) --> func(1, z=3, y=2)\n",
    "\n"
   ]
  },
  {
   "cell_type": "code",
   "execution_count": null,
   "metadata": {},
   "outputs": [],
   "source": []
  }
 ],
 "metadata": {
  "kernelspec": {
   "display_name": "Python 3",
   "language": "python",
   "name": "python3"
  },
  "language_info": {
   "codemirror_mode": {
    "name": "ipython",
    "version": 3
   },
   "file_extension": ".py",
   "mimetype": "text/x-python",
   "name": "python",
   "nbconvert_exporter": "python",
   "pygments_lexer": "ipython3",
   "version": "3.8.3"
  }
 },
 "nbformat": 4,
 "nbformat_minor": 4
}
